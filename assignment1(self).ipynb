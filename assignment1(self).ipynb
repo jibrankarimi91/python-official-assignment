{
 "cells": [
  {
   "cell_type": "code",
   "execution_count": 1,
   "metadata": {},
   "outputs": [],
   "source": [
    "r = int(input(\"enter the radius : \"))\n",
    "if r >= 0 :\n",
    "    print(\"the area of the sphere is \" , 4*3.142*r**2)\n",
    "else :\n",
    "    print(\"radius is not valid\")"
   ]
  },
  {
   "cell_type": "code",
   "execution_count": 2,
   "metadata": {},
   "outputs": [],
   "source": [
    "num = int(input(\"enter the number : \"))\n",
    "if num > 0 :\n",
    "    print(\"the number is positive\")\n",
    "elif num < 0 :\n",
    "    print(\"the number is negative\")\n",
    "elif num == 0 :\n",
    "    print(\"the number is zero\")"
   ]
  },
  {
   "cell_type": "code",
   "execution_count": 3,
   "metadata": {},
   "outputs": [],
   "source": [
    "num1 = int(input(\"enter the numerator : \"))\n",
    "num2 = int(input(\"enter the denomerator : \"))\n",
    "if num1 % num2 == 0 :\n",
    "    print(num1 , \"is completely divisible by \" , num2)\n",
    "elif num1 % num2 != 0 :\n",
    "    print(num1 , \"is not completely divisible by\" , num2)"
   ]
  },
  {
   "cell_type": "code",
   "execution_count": 4,
   "metadata": {},
   "outputs": [],
   "source": [
    "r = int(input(\"enter the value of radius : \"))\n",
    "if r >= 0 :\n",
    "    print(\"the volume of the sphere is\" , (4/3)*3.142*r**3)\n",
    "elif r < 0 :\n",
    "    print(\"radius is invalid\")"
   ]
  },
  {
   "cell_type": "code",
   "execution_count": 5,
   "metadata": {},
   "outputs": [],
   "source": [
    "str1 = input(\"enter the string : \")\n",
    "n = int(input(\"how many times : \"))\n",
    "print(str1*n)"
   ]
  },
  {
   "cell_type": "code",
   "execution_count": 6,
   "metadata": {},
   "outputs": [],
   "source": [
    "num = int(input(\"enter the number : \"))\n",
    "if num%2 == 0 :\n",
    "    print(\"the number is even\")\n",
    "elif num%2 != 0 :\n",
    "    print(\"the number is odd\")"
   ]
  },
  {
   "cell_type": "code",
   "execution_count": 7,
   "metadata": {},
   "outputs": [],
   "source": [
    "str1 = input().lower()\n",
    "if str1 == \"a\" or str1 == \"e\" or str1 == \"i\" or str1 == \"o\" or str1 == \"u\" :\n",
    "    print(\"it's a vowel\")\n",
    "else :\n",
    "    print(\"it's not a vowel\")  \n",
    "str1 = input().upper()\n",
    "if str1 == \"A\" or str1 == \"E\" or str1 == \"I\" or str1 == \"O\" or str1 == \"U\" :\n",
    "    print(\"it's a vowel\")\n",
    "else :\n",
    "    print(\"it's not a vowel\")"
   ]
  },
  {
   "cell_type": "code",
   "execution_count": 8,
   "metadata": {},
   "outputs": [],
   "source": [
    "b = int(input(\"length of base of the triangle : \"))\n",
    "h = int(input(\"length of height of the triangle : \"))\n",
    "if b >= 0 and h >= 0 :\n",
    "    print(\"the area(A) for the given values is\" , (h*b)/2)\n",
    "else :\n",
    "    print(\"the legth of the sides cannot be negative\")"
   ]
  },
  {
   "cell_type": "code",
   "execution_count": 9,
   "metadata": {},
   "outputs": [],
   "source": [
    "p =int(input(\"enter the principle value : \"))\n",
    "r =float(input(\"enter the rate of interest in% : \"))\n",
    "t =int(input(\"enter the number of years\"))\n",
    "i = p*r*t \n",
    "if p>=0 and r>=0 and t>=0 :\n",
    "    print(\"after\" , t , \"years your principle value over the interest rate of\" , r , \"will be\" , i )\n",
    "else :\n",
    "    print(\"invalid information\")"
   ]
  },
  {
   "cell_type": "code",
   "execution_count": 10,
   "metadata": {},
   "outputs": [],
   "source": [
    "x1 = int(input(\"enter the absissa of first point : \"))\n",
    "x2 = int(input(\"enter the absissa of second point : \"))\n",
    "y1 = int(input(\"enter the ordinate of first point : \"))\n",
    "y2 = int(input(\"enter the ordinate of second point : \"))\n",
    "d1 = (x2 - x1)**2 + (y2 - y1)**2\n",
    "d = d1**0.5\n",
    "print(\"the distance between\",(x1,y1) , \"and\", (x2,y2) , \"is\" ,d)"
   ]
  },
  {
   "cell_type": "code",
   "execution_count": 11,
   "metadata": {},
   "outputs": [],
   "source": [
    "h = int(input(\"enter your height in feet : \"))\n",
    "a = h * 30.48\n",
    "print(\"there are\", a, \"centimeters in\", h, \"feets\")"
   ]
  },
  {
   "cell_type": "code",
   "execution_count": 22,
   "metadata": {},
   "outputs": [
    {
     "name": "stdout",
     "output_type": "stream",
     "text": [
      "enter your height in m : 18\n",
      "enter your weight in kg : 75\n",
      "0.23148148148148148\n"
     ]
    }
   ],
   "source": [
    "h = int(input(\"enter your height in m : \"))\n",
    "w = int(input(\"enter your weight in kg : \"))\n",
    "x = w / h**2\n",
    "print(x)"
   ]
  },
  {
   "cell_type": "code",
   "execution_count": null,
   "metadata": {},
   "outputs": [],
   "source": []
  }
 ],
 "metadata": {
  "kernelspec": {
   "display_name": "Python 3",
   "language": "python",
   "name": "python3"
  },
  "language_info": {
   "codemirror_mode": {
    "name": "ipython",
    "version": 3
   },
   "file_extension": ".py",
   "mimetype": "text/x-python",
   "name": "python",
   "nbconvert_exporter": "python",
   "pygments_lexer": "ipython3",
   "version": "3.7.3"
  }
 },
 "nbformat": 4,
 "nbformat_minor": 2
}
